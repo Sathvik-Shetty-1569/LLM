{
 "cells": [
  {
   "cell_type": "code",
   "execution_count": 1,
   "id": "aaf4af0f",
   "metadata": {},
   "outputs": [
    {
     "name": "stdout",
     "output_type": "stream",
     "text": [
      "Total number of characters:  20479\n",
      "I HAD always thought Jack Gisburn rather a cheap genius--though a good fellow enough--so it was no \n"
     ]
    }
   ],
   "source": [
    "with open('the-verdict.txt', 'r', encoding='utf-8') as f:\n",
    "    raw_text = f.read()\n",
    "    print(\"Total number of characters: \", len(raw_text))\n",
    "    print(raw_text[:99])"
   ]
  },
  {
   "cell_type": "code",
   "execution_count": 8,
   "id": "623c18bc",
   "metadata": {},
   "outputs": [
    {
     "name": "stdout",
     "output_type": "stream",
     "text": [
      "Total number of tokens:  4690\n",
      "['I', 'HAD', 'always', 'thought', 'Jack', 'Gisburn', 'rather', 'a', 'cheap', 'genius', '--', 'though', 'a', 'good', 'fellow', 'enough', '--', 'so', 'it', 'was', 'no', 'great', 'surprise', 'to', 'me', 'to', 'hear', 'that', ',', 'in']\n"
     ]
    }
   ],
   "source": [
    "import re\n",
    "tokens = re.split(r\"([,:;.?_/!\\\"()']|--|\\s)\", raw_text)\n",
    "tokens = [item for item in tokens if item.strip()]\n",
    "print(\"Total number of tokens: \", len(tokens))\n",
    "print(tokens[:30])"
   ]
  },
  {
   "cell_type": "code",
   "execution_count": 27,
   "id": "4172366b",
   "metadata": {},
   "outputs": [
    {
     "name": "stdout",
     "output_type": "stream",
     "text": [
      "Hello, world! Python?\n"
     ]
    }
   ],
   "source": [
    "string = re.sub(r\"\\s+([:_,?!])\", r\"\\1\", \"Hello , world ! Python ?\")\n",
    "print(string)\n"
   ]
  }
 ],
 "metadata": {
  "kernelspec": {
   "display_name": "medibot",
   "language": "python",
   "name": "python3"
  },
  "language_info": {
   "codemirror_mode": {
    "name": "ipython",
    "version": 3
   },
   "file_extension": ".py",
   "mimetype": "text/x-python",
   "name": "python",
   "nbconvert_exporter": "python",
   "pygments_lexer": "ipython3",
   "version": "3.10.16"
  }
 },
 "nbformat": 4,
 "nbformat_minor": 5
}
